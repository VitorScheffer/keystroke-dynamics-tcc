{
 "cells": [
  {
   "cell_type": "markdown",
   "metadata": {},
   "source": [
    "# KNN"
   ]
  },
  {
   "cell_type": "code",
   "execution_count": 8,
   "metadata": {
    "collapsed": true
   },
   "outputs": [],
   "source": [
    "import numpy as np\n",
    "import matplotlib.pyplot as plt\n",
    "import pandas as pd\n",
    "from sklearn import metrics\n",
    "from sklearn.neighbors import KNeighborsClassifier\n",
    "from sklearn.neighbors import NearestNeighbors\n",
    "from sklearn.model_selection import train_test_split\n",
    "from sklearn.preprocessing import StandardScaler, RobustScaler"
   ]
  },
  {
   "cell_type": "code",
   "execution_count": 37,
   "metadata": {},
   "outputs": [],
   "source": [
    "# Carrega os dados\n",
    "data = pd.read_csv(\"DSL-StrongPasswordData.csv\", header = 0)\n",
    "# Reinicia o index\n",
    "data = data.reset_index()\n",
    "# Pega os IDs unicos campo 'subject'\n",
    "unisub = list(data['subject'].unique())\n",
    "# Cria ID numerico sequencial\n",
    "mlist = [int(x) for x in range(len(unisub))]\n",
    "# Vincula o Id numerico com o campo 'subject'\n",
    "newvalue = dict(zip(unisub, mlist))\n",
    "# Exibe dados tratados\n",
    "data['subject'] = data['subject'].map(newvalue)\n",
    "\n",
    "\n",
    "# import some data to play with\n",
    "\n",
    "\n",
    "# Divide o conjunto de dados utilizando a proporção 80:20\n",
    "train, test = train_test_split(data, test_size = 0.2)\n",
    "\n",
    "#iris = datasets.load_iris()\n",
    "\n",
    "features = list(data.columns[2:])\n",
    "\n",
    "X = train[features].values\n",
    "y = train['subject'].values\n",
    "\n",
    "\n"
   ]
  },
  {
   "cell_type": "code",
   "execution_count": 38,
   "metadata": {
    "collapsed": true
   },
   "outputs": [],
   "source": [
    "#neigh = KNeighborsClassifier(n_neighbors=3, algorithm='brute',metric='cosine').fit(X, y) #35"
   ]
  },
  {
   "cell_type": "code",
   "execution_count": 39,
   "metadata": {},
   "outputs": [],
   "source": [
    "#neigh = KNeighborsClassifier(n_neighbors=30,weights ='uniform', algorithm='auto',metric='manhattan').fit(X, y) #31"
   ]
  },
  {
   "cell_type": "code",
   "execution_count": 40,
   "metadata": {},
   "outputs": [],
   "source": [
    "neigh = KNeighborsClassifier(n_neighbors=21, weights ='uniform', algorithm='brute',metric='manhattan',n_jobs =-1).fit(X, y) #"
   ]
  },
  {
   "cell_type": "code",
   "execution_count": 41,
   "metadata": {},
   "outputs": [],
   "source": [
    "x_test = test[features]\n",
    "y_test = test['subject']\n",
    "# predict the output using the test data on the learned model\n",
    "predicted_output = neigh.predict(x_test)\n"
   ]
  },
  {
   "cell_type": "code",
   "execution_count": 42,
   "metadata": {},
   "outputs": [
    {
     "data": {
      "text/plain": [
       "0.36813725490196081"
      ]
     },
     "execution_count": 42,
     "metadata": {},
     "output_type": "execute_result"
    }
   ],
   "source": [
    "model_accuracy = metrics.accuracy_score(y_test, predicted_output)\n",
    "model_accuracy"
   ]
  },
  {
   "cell_type": "code",
   "execution_count": null,
   "metadata": {
    "collapsed": true
   },
   "outputs": [],
   "source": []
  }
 ],
 "metadata": {
  "kernelspec": {
   "display_name": "Python 3",
   "language": "python",
   "name": "python3"
  },
  "language_info": {
   "codemirror_mode": {
    "name": "ipython",
    "version": 3
   },
   "file_extension": ".py",
   "mimetype": "text/x-python",
   "name": "python",
   "nbconvert_exporter": "python",
   "pygments_lexer": "ipython3",
   "version": "3.6.1"
  }
 },
 "nbformat": 4,
 "nbformat_minor": 2
}
