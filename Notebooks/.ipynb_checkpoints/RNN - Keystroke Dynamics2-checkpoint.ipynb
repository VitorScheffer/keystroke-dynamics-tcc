{
 "cells": [
  {
   "cell_type": "markdown",
   "metadata": {},
   "source": [
    "# RNN"
   ]
  },
  {
   "cell_type": "code",
   "execution_count": 1,
   "metadata": {
    "collapsed": true
   },
   "outputs": [],
   "source": [
    "import numpy as np\n",
    "import pandas as pd\n",
    "import plot_learning_curve as plotlearn\n",
    "from matplotlib import pyplot as plt\n",
    "from matplotlib.colors import ListedColormap\n",
    "from sklearn.model_selection import train_test_split\n",
    "from sklearn.neural_network import MLPClassifier\n",
    "from sklearn.ensemble import BaggingClassifier\n",
    "from sklearn import metrics"
   ]
  },
  {
   "cell_type": "code",
   "execution_count": 2,
   "metadata": {
    "collapsed": true
   },
   "outputs": [],
   "source": [
    "# Carrega os dados\n",
    "data = pd.read_csv(\"DSL-StrongPasswordData.csv\", header = 0)\n",
    "# Reinicia o index\n",
    "data = data.reset_index()\n",
    "# Pega os IDs unicos campo 'subject'\n",
    "unisub = list(data['subject'].unique())\n",
    "# Cria ID numerico sequencial\n",
    "mlist = [int(x) for x in range(len(unisub))]\n",
    "# Vincula o Id numerico com o campo 'subject'\n",
    "newvalue = dict(zip(unisub, mlist))\n",
    "# Exibe dados tratados\n",
    "data['subject'] = data['subject'].map(newvalue)\n",
    "\n",
    "\n",
    "# import some data to play with\n",
    "\n",
    "\n",
    "# Divide o conjunto de dados utilizando a proporção 80:20\n",
    "train, test = train_test_split(data, test_size = 0.2)\n",
    "\n",
    "#iris = datasets.load_iris()\n",
    "\n",
    "features = list(data.columns[2:])\n",
    "\n",
    "X = train[features].values\n",
    "y = train['subject'].values\n"
   ]
  },
  {
   "cell_type": "code",
   "execution_count": 3,
   "metadata": {
    "collapsed": true
   },
   "outputs": [],
   "source": [
    "net = MLPClassifier(hidden_layer_sizes=(300, ),max_iter=600)\n",
    "bagging = BaggingClassifier(net,n_estimators=10, max_features=3,max_samples=1.0)"
   ]
  },
  {
   "cell_type": "code",
   "execution_count": 4,
   "metadata": {},
   "outputs": [],
   "source": [
    "#title = \"RNN\"\n",
    "#plotlearn.plot_learning_curve(net, title, X, y)\n",
    "\n",
    "#plt.show()"
   ]
  },
  {
   "cell_type": "code",
   "execution_count": null,
   "metadata": {},
   "outputs": [],
   "source": [
    "bagging.fit(X,y)"
   ]
  },
  {
   "cell_type": "code",
   "execution_count": null,
   "metadata": {
    "collapsed": true
   },
   "outputs": [],
   "source": [
    "x_test = test[features]\n",
    "y_test = test['subject']\n",
    "# predict the output using the test data on the learned model\n",
    "predicted_output = bagging.predict(x_test)\n",
    "\n"
   ]
  },
  {
   "cell_type": "code",
   "execution_count": null,
   "metadata": {},
   "outputs": [],
   "source": [
    "model_accuracy = metrics.accuracy_score(y_test, predicted_output)\n",
    "model_accuracy"
   ]
  },
  {
   "cell_type": "code",
   "execution_count": null,
   "metadata": {
    "collapsed": true
   },
   "outputs": [],
   "source": []
  }
 ],
 "metadata": {
  "kernelspec": {
   "display_name": "Python 3",
   "language": "python",
   "name": "python3"
  },
  "language_info": {
   "codemirror_mode": {
    "name": "ipython",
    "version": 3
   },
   "file_extension": ".py",
   "mimetype": "text/x-python",
   "name": "python",
   "nbconvert_exporter": "python",
   "pygments_lexer": "ipython3",
   "version": "3.6.2"
  }
 },
 "nbformat": 4,
 "nbformat_minor": 2
}
