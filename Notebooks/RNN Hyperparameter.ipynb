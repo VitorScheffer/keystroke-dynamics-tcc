{
 "cells": [
  {
   "cell_type": "code",
   "execution_count": 3,
   "metadata": {},
   "outputs": [],
   "source": [
    "import numpy as np\n",
    "import matplotlib.pyplot as plt\n",
    "import pandas as pd\n",
    "from matplotlib.colors import Normalize\n",
    "\n",
    "from sklearn.neural_network import MLPClassifier\n",
    "from sklearn.preprocessing import StandardScaler\n",
    "from sklearn.datasets import load_iris\n",
    "from sklearn.model_selection import StratifiedShuffleSplit\n",
    "from sklearn.model_selection import GridSearchCV\n",
    "from sklearn.model_selection import train_test_split"
   ]
  },
  {
   "cell_type": "code",
   "execution_count": 9,
   "metadata": {},
   "outputs": [
    {
     "data": {
      "text/plain": [
       "array([[ 0.65629302,  0.52267595,  1.75794114, ..., -0.21079328,\n",
       "        -0.50536119,  1.8930323 ],\n",
       "       [-0.21580746,  0.87016701, -0.09628472, ..., -0.36634048,\n",
       "        -0.3541073 , -0.3925109 ],\n",
       "       [ 0.65629302, -0.3808008 , -0.88272055, ..., -0.60100994,\n",
       "        -0.56104016, -0.58632496],\n",
       "       ..., \n",
       "       [ 0.22024278, -0.86728828,  0.18167967, ..., -0.33307316,\n",
       "        -0.23485785,  0.30960797],\n",
       "       [-0.21580746, -0.03330974, -0.33018158, ...,  1.44088411,\n",
       "         1.4837371 , -0.67408982],\n",
       "       [ 1.52839349, -1.28427755, -0.04882738, ..., -0.51469473,\n",
       "        -0.51939054, -0.28646169]])"
      ]
     },
     "execution_count": 9,
     "metadata": {},
     "output_type": "execute_result"
    }
   ],
   "source": [
    "# Carrega os dados\n",
    "data = pd.read_csv(\"DSL-StrongPasswordData.csv\", header = 0)\n",
    "# Reinicia o index\n",
    "data = data.reset_index()\n",
    "# Pega os IDs unicos campo 'subject'\n",
    "unisub = list(data['subject'].unique())\n",
    "# Cria ID numerico sequencial\n",
    "mlist = [int(x) for x in range(len(unisub))]\n",
    "# Vincula o Id numerico com o campo 'subject'\n",
    "newvalue = dict(zip(unisub, mlist))\n",
    "data['subject'] = data['subject'].map(newvalue)\n",
    "\n",
    "# Divide o conjunto de dados utilizando a proporção 80:20\n",
    "train, test = train_test_split(data, test_size = 0.2, random_state=42)\n",
    "\n",
    "features = list(data.columns[2:])\n",
    "\n",
    "X = train[features]\n",
    "y = train['subject'].values\n",
    "\n",
    "X_test = test[features]\n",
    "y_test = test['subject']\n",
    "\n",
    "#Pre processa os dados\n",
    "scaler = StandardScaler()\n",
    "scaler.fit(X)\n",
    "\n",
    "scaler.transform(X)\n",
    "scaler.transform(X_test)"
   ]
  },
  {
   "cell_type": "code",
   "execution_count": 10,
   "metadata": {
    "collapsed": true
   },
   "outputs": [],
   "source": [
    "param_grid={\n",
    "    'activation': [\"identity\", \"logistic\",\"tanh\", \"relu\"],\n",
    "    'solver': [\"lbfgs\", \"sgd\", \"adam\"],\n",
    "    'learning_rate' : [\"constant\", \"invscaling\", \"adaptive\"],\n",
    "    'hidden_layer_sizes': np.random.randint(5,100, size=(1, 15))[0] }"
   ]
  },
  {
   "cell_type": "code",
   "execution_count": 14,
   "metadata": {
    "collapsed": true
   },
   "outputs": [],
   "source": [
    "param_grid2={\n",
    "    'alpha': 10.0 ** -np.arange(1, 7)\n",
    "}    "
   ]
  },
  {
   "cell_type": "code",
   "execution_count": 12,
   "metadata": {
    "collapsed": true
   },
   "outputs": [],
   "source": [
    "net = MLPClassifier(random_state=42,hidden_layer_sizes=(84, ),max_iter=600,activation= 'relu', learning_rate= 'invscaling', solver='adam')\n",
    "\n",
    "cv = StratifiedShuffleSplit(n_splits=5, test_size=0.2, random_state=42)"
   ]
  },
  {
   "cell_type": "code",
   "execution_count": 15,
   "metadata": {},
   "outputs": [
    {
     "name": "stdout",
     "output_type": "stream",
     "text": [
      "The best parameters are {'alpha': 9.9999999999999995e-07} with a score of 0.90\n"
     ]
    }
   ],
   "source": [
    "grid = GridSearchCV(net, param_grid=param_grid2, cv=cv,n_jobs=1)\n",
    "grid.fit(X, y)\n",
    "\n",
    "print(\"The best parameters are %s with a score of %0.2f\"\n",
    "      % (grid.best_params_, grid.best_score_))"
   ]
  },
  {
   "cell_type": "code",
   "execution_count": null,
   "metadata": {
    "collapsed": true
   },
   "outputs": [],
   "source": []
  }
 ],
 "metadata": {
  "kernelspec": {
   "display_name": "Python 3",
   "language": "python",
   "name": "python3"
  },
  "language_info": {
   "codemirror_mode": {
    "name": "ipython",
    "version": 3
   },
   "file_extension": ".py",
   "mimetype": "text/x-python",
   "name": "python",
   "nbconvert_exporter": "python",
   "pygments_lexer": "ipython3",
   "version": "3.6.2"
  }
 },
 "nbformat": 4,
 "nbformat_minor": 2
}
