{
 "cells": [
  {
   "cell_type": "markdown",
   "metadata": {},
   "source": [
    "# SVM"
   ]
  },
  {
   "cell_type": "code",
   "execution_count": 1,
   "metadata": {
    "collapsed": true
   },
   "outputs": [],
   "source": [
    "import numpy as np\n",
    "import matplotlib.pyplot as plt\n",
    "import pandas as pd\n",
    "import plot_learning_curve as plotlearn\n",
    "from sklearn import metrics\n",
    "from sklearn import svm, datasets\n",
    "from sklearn.model_selection import train_test_split\n"
   ]
  },
  {
   "cell_type": "code",
   "execution_count": 2,
   "metadata": {
    "collapsed": true
   },
   "outputs": [],
   "source": [
    "# Carrega os dados\n",
    "data = pd.read_csv(\"DSL-StrongPasswordData.csv\", header = 0)\n",
    "# Reinicia o index\n",
    "data = data.reset_index()\n",
    "# Pega os IDs unicos campo 'subject'\n",
    "unisub = list(data['subject'].unique())\n",
    "# Cria ID numerico sequencial\n",
    "mlist = [int(x) for x in range(len(unisub))]\n",
    "# Vincula o Id numerico com o campo 'subject'\n",
    "newvalue = dict(zip(unisub, mlist))\n",
    "# Exibe dados tratados\n",
    "data['subject'] = data['subject'].map(newvalue)\n",
    "\n",
    "\n",
    "# import some data to play with\n",
    "\n",
    "\n",
    "# Divide o conjunto de dados utilizando a proporção 80:20\n",
    "train, test = train_test_split(data, test_size = 0.2)\n",
    "\n",
    "features = list(data.columns[2:])\n",
    "\n",
    "X = train[features].values\n",
    "y = train['subject'].values"
   ]
  },
  {
   "cell_type": "code",
   "execution_count": 10,
   "metadata": {},
   "outputs": [],
   "source": [
    "# we create an instance of SVM and fit out data. We do not scale our\n",
    "# data since we want to plot the support vectors\n",
    "C = 3  # SVM regularization parameter\n",
    "#svc = svm.SVC(kernel='linear', C=C).fit(X, y)\n",
    "#rbf_svc = svm.SVC(kernel='rbf', C=C).fit(X, y)\n",
    "poly_svc = svm.SVC(kernel='poly', degree=3, C=C, gamma=10)\n",
    "#lin_svc = svm.LinearSVC(C=C).fit(X, y)\n"
   ]
  },
  {
   "cell_type": "code",
   "execution_count": 11,
   "metadata": {
    "collapsed": true
   },
   "outputs": [],
   "source": [
    "#title = \"Learning Curves (SVM, Poly kernel)\"\n",
    "#plotlearn.plot_learning_curve(poly_svc, title, X, y)\n",
    "\n",
    "#plt.show()"
   ]
  },
  {
   "cell_type": "code",
   "execution_count": null,
   "metadata": {},
   "outputs": [],
   "source": [
    "poly_svc.fit(X, y)"
   ]
  },
  {
   "cell_type": "code",
   "execution_count": null,
   "metadata": {
    "collapsed": true
   },
   "outputs": [],
   "source": [
    "x_test = test[features]\n",
    "y_test = test['subject']\n",
    "# predict the output using the test data on the learned model\n",
    "predicted_output = poly_svc.predict(x_test)\n",
    "\n"
   ]
  },
  {
   "cell_type": "code",
   "execution_count": null,
   "metadata": {},
   "outputs": [],
   "source": [
    "model_accuracy = metrics.accuracy_score(y_test, predicted_output)\n",
    "model_accuracy"
   ]
  },
  {
   "cell_type": "code",
   "execution_count": null,
   "metadata": {
    "collapsed": true
   },
   "outputs": [],
   "source": []
  }
 ],
 "metadata": {
  "kernelspec": {
   "display_name": "Python 3",
   "language": "python",
   "name": "python3"
  },
  "language_info": {
   "codemirror_mode": {
    "name": "ipython",
    "version": 3
   },
   "file_extension": ".py",
   "mimetype": "text/x-python",
   "name": "python",
   "nbconvert_exporter": "python",
   "pygments_lexer": "ipython3",
   "version": "3.6.1"
  }
 },
 "nbformat": 4,
 "nbformat_minor": 2
}
