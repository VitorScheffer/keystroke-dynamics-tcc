{
 "cells": [
  {
   "cell_type": "markdown",
   "metadata": {},
   "source": [
    "# KNN"
   ]
  },
  {
   "cell_type": "code",
   "execution_count": 18,
   "metadata": {
    "collapsed": true
   },
   "outputs": [],
   "source": [
    "import numpy as np\n",
    "import matplotlib.pyplot as plt\n",
    "import pandas as pd\n",
    "import plot_learning_curve as plotlearn\n",
    "from sklearn import metrics\n",
    "from sklearn.neighbors import KNeighborsClassifier\n",
    "from sklearn.neighbors import NearestNeighbors\n",
    "from sklearn.model_selection import train_test_split\n",
    "from sklearn.preprocessing import StandardScaler, RobustScaler"
   ]
  },
  {
   "cell_type": "code",
   "execution_count": 19,
   "metadata": {
    "collapsed": true
   },
   "outputs": [],
   "source": [
    "# Carrega os dados\n",
    "data = pd.read_csv(\"DSL-StrongPasswordData.csv\", header = 0)\n",
    "# Reinicia o index\n",
    "data = data.reset_index()\n",
    "# Pega os IDs unicos campo 'subject'\n",
    "unisub = list(data['subject'].unique())\n",
    "# Cria ID numerico sequencial\n",
    "mlist = [int(x) for x in range(len(unisub))]\n",
    "# Vincula o Id numerico com o campo 'subject'\n",
    "newvalue = dict(zip(unisub, mlist))\n",
    "# Exibe dados tratados\n",
    "data['subject'] = data['subject'].map(newvalue)\n",
    "\n",
    "\n",
    "# import some data to play with\n",
    "\n",
    "\n",
    "# Divide o conjunto de dados utilizando a proporção 80:20\n",
    "train, test = train_test_split(data, test_size = 0.2)\n",
    "\n",
    "#iris = datasets.load_iris()\n",
    "\n",
    "features = list(data.columns[2:])\n",
    "\n",
    "X = train[features].values\n",
    "y = train['subject'].values\n",
    "\n",
    "\n"
   ]
  },
  {
   "cell_type": "code",
   "execution_count": 20,
   "metadata": {
    "collapsed": true
   },
   "outputs": [],
   "source": [
    "#neigh = KNeighborsClassifier(n_neighbors=3, algorithm='brute',metric='cosine').fit(X, y) #35"
   ]
  },
  {
   "cell_type": "code",
   "execution_count": 21,
   "metadata": {
    "collapsed": true
   },
   "outputs": [],
   "source": [
    "#neigh = KNeighborsClassifier(n_neighbors=30,weights ='uniform', algorithm='auto',metric='manhattan').fit(X, y) #31"
   ]
  },
  {
   "cell_type": "code",
   "execution_count": 22,
   "metadata": {
    "collapsed": true
   },
   "outputs": [],
   "source": [
    "neigh = KNeighborsClassifier(n_neighbors=21, weights ='uniform', algorithm='brute',metric='manhattan',n_jobs =-1)"
   ]
  },
  {
   "cell_type": "code",
   "execution_count": 23,
   "metadata": {},
   "outputs": [
    {
     "data": {
      "image/png": "[encoded data removed]",
      "text/plain": [
       "<matplotlib.figure.Figure at 0x27d267e3320>"
      ]
     },
     "metadata": {},
     "output_type": "display_data"
    }
   ],
   "source": [
    "title = \"Curva de aprendizado (KNN, Manhattan)\"\n",
    "plotlearn.plot_learning_curve(neigh, title, X, y)\n",
    "\n",
    "plt.show()"
   ]
  },
  {
   "cell_type": "code",
   "execution_count": 24,
   "metadata": {},
   "outputs": [
    {
     "data": {
      "text/plain": [
       "KNeighborsClassifier(algorithm='brute', leaf_size=30, metric='manhattan',\n",
       "           metric_params=None, n_jobs=-1, n_neighbors=21, p=2,\n",
       "           weights='uniform')"
      ]
     },
     "execution_count": 24,
     "metadata": {},
     "output_type": "execute_result"
    }
   ],
   "source": [
    "neigh.fit(X, y)"
   ]
  },
  {
   "cell_type": "code",
   "execution_count": 25,
   "metadata": {
    "collapsed": true
   },
   "outputs": [],
   "source": [
    "x_test = test[features]\n",
    "y_test = test['subject']\n",
    "# predict the output using the test data on the learned model\n",
    "predicted_output = neigh.predict(x_test)\n"
   ]
  },
  {
   "cell_type": "code",
   "execution_count": 26,
   "metadata": {},
   "outputs": [
    {
     "data": {
      "text/plain": [
       "0.37524509803921569"
      ]
     },
     "execution_count": 26,
     "metadata": {},
     "output_type": "execute_result"
    }
   ],
   "source": [
    "model_accuracy = metrics.accuracy_score(y_test, predicted_output)\n",
    "model_accuracy"
   ]
  },
  {
   "cell_type": "code",
   "execution_count": null,
   "metadata": {
    "collapsed": true
   },
   "outputs": [],
   "source": []
  },
  {
   "cell_type": "code",
   "execution_count": null,
   "metadata": {
    "collapsed": true
   },
   "outputs": [],
   "source": []
  }
 ],
 "metadata": {
  "kernelspec": {
   "display_name": "Python 3",
   "language": "python",
   "name": "python3"
  },
  "language_info": {
   "codemirror_mode": {
    "name": "ipython",
    "version": 3
   },
   "file_extension": ".py",
   "mimetype": "text/x-python",
   "name": "python",
   "nbconvert_exporter": "python",
   "pygments_lexer": "ipython3",
   "version": "3.6.2"
  }
 },
 "nbformat": 4,
 "nbformat_minor": 2
}
